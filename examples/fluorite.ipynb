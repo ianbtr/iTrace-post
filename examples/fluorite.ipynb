{
 "cells": [
  {
   "cell_type": "markdown",
   "metadata": {},
   "source": [
    "# Parsing and Interpreting Data From [FLUORITE](http://www.cs.cmu.edu/~fluorite/)\n",
    "\n",
    "FLUORITE (Full of Low-level User Operations Recorded In The Editor) is a plugin for the Eclipse IDE that records low-level file operations from the IDE. The log records a wealth of information, including data which is not fully leveraged by this project. The `fluorite` Python module's sole purpose is to approximately reconstruct the files as they would have appeared at any time while the FLUORITE plugin was recording.\n",
    "\n",
    "## Contents\n",
    "* [Parsing a FLUORITE Log File](#Parsing-a-FLUORITE-Log-File)\n",
    "* [Reconstructing Project Files From a Timestamp](#Reconstructing-Project-Files-From-a-Timestamp)\n",
    "* [Saving a Timeline](#Saving-a-Timeline)"
   ]
  },
  {
   "cell_type": "code",
   "execution_count": 1,
   "metadata": {},
   "outputs": [],
   "source": [
    "from fluorite import ProjectHistory"
   ]
  },
  {
   "cell_type": "markdown",
   "metadata": {},
   "source": [
    "## Parsing a FLUORITE Log File\n",
    "\n",
    "Logs from FLUORITE are all in XML format. Information such as edit times and locations are contained in attributes, and the types of edits or interactions with the editor are denoted with tag names.\n",
    "\n",
    "Constructing a `ProjectHistory` object parses the log file and creates a list of document changes for each file."
   ]
  },
  {
   "cell_type": "code",
   "execution_count": 2,
   "metadata": {},
   "outputs": [],
   "source": [
    "fluorite_log = \"sample-data/log-files/Log-sample-2.xml\"\n",
    "project_history = ProjectHistory(fluorite_log)"
   ]
  },
  {
   "cell_type": "markdown",
   "metadata": {},
   "source": [
    "## Reconstructing Project Files From a Timestamp\n",
    "\n",
    "On each call to `get_snapshot`, the ProjectHistory object applies all the changes up to the given timestamp. This is less than optimal, but it works well in the normal case, where a relatively low number of edits are made."
   ]
  },
  {
   "cell_type": "code",
   "execution_count": 3,
   "metadata": {},
   "outputs": [
    {
     "name": "stdout",
     "output_type": "stream",
     "text": [
      "public class Foo{\r\n",
      "\t\r\n",
      "}\n",
      "\n",
      "---------------------------------\n",
      "\n",
      "public class Foo{\r\n",
      "\tprivate int foods;\r\n",
      "\tprivate String attitude;\r\n",
      "\t\r\n",
      "\tpublic Foo(int starting_foods) {\r\n",
      "\t\tthis.foods = starting_foods;\r\n",
      "\t\tthis.attitude = foods < 5? \"Grumpy\": \"Grudgingly Satisfied\";\r\n",
      "\t}\r\n",
      "}\n"
     ]
    }
   ],
   "source": [
    "# Get the time at which the IDE started up\n",
    "launch_time = project_history.launch_time\n",
    "\n",
    "# Pick a time in milliseconds at which to view the file.\n",
    "# Note that this will return a tuple that also contains the current state\n",
    "#    of any function/entity indices you may have used.\n",
    "content_1 = project_history.get_snapshot(\"Foo.java\", launch_time + 85000)[0]\n",
    "print(content_1)\n",
    "\n",
    "print(\"\\n---------------------------------\\n\")\n",
    "\n",
    "# Pick another time. Note that the IDE was closed after this time, but\n",
    "#      no exception is raised.\n",
    "content_2 = project_history.get_snapshot(\"Foo.java\", launch_time + 10**7)[0]\n",
    "print(content_2)"
   ]
  },
  {
   "cell_type": "markdown",
   "metadata": {},
   "source": [
    "## Saving a Timeline\n",
    "\n",
    "You may wish to save several copies of the project as they existed at different times. This can be done in various ways.\n",
    "\n",
    "#### Method 1: Save As Many Snapshots As Possible"
   ]
  },
  {
   "cell_type": "code",
   "execution_count": 4,
   "metadata": {},
   "outputs": [
    {
     "data": {
      "text/plain": [
       "[[1565111420525, 1565111487334],\n",
       " [1565111489858, 1565111490830],\n",
       " [1565111491543, 1565111492344],\n",
       " [1565111492861, 1565111493138],\n",
       " [1565111493138, 1565111493285],\n",
       " [1565111495319, 1565111496202],\n",
       " [1565111497636, 1565111497918],\n",
       " [1565111498167, 1565111498476],\n",
       " [1565111498476, 1565111498642],\n",
       " [1565111498714, 1565111498964],\n",
       " [1565111499120, 1565111499227],\n",
       " [1565111502898, 1565111503467],\n",
       " [1565111503467, 1565111503663],\n",
       " [1565111503663, 1565111504986],\n",
       " [1565111505180, 1565111507696],\n",
       " [1565111509576, 1565111510074],\n",
       " [1565111510074, 1565111511104],\n",
       " [1565111511584, 1565111511998],\n",
       " [1565111512338, 1565111512573],\n",
       " [1565111514655, 1565111515226],\n",
       " [1565111515954, 1565111517015],\n",
       " [1565111517015, 1565111517486],\n",
       " [1565111517486, 1565111518413],\n",
       " [1565111519246, 1565111519619],\n",
       " [1565111519619, 1565111519735],\n",
       " [1565111524047, 1565111524995],\n",
       " [1565111524995, 1565111525690],\n",
       " [1565111525690, 1565111529201],\n",
       " [1565111531879, 1565111534377],\n",
       " [1565111534377, 1565111534987],\n",
       " [1565111534987, 1565111535384],\n",
       " [1565111538084, 1565111539271],\n",
       " [1565111539271, 1565111539483],\n",
       " [1565111539483, 1565111543934],\n",
       " [1565111543934, 1565111544422],\n",
       " [1565111544422, 1565111544657],\n",
       " [1565111545143, 1565111547869],\n",
       " [1565111552785, 1565111553523],\n",
       " [1565111553523, 1565111554835],\n",
       " [1565111560886, 1565111561221],\n",
       " [1565111561221, 1565111561552],\n",
       " [1565111561552, 1565111561891],\n",
       " [1565111561891, 1565111562151],\n",
       " [1565111562253, 1565111565367],\n",
       " [1565111569596, 1565111572475],\n",
       " [1565111573962, 1565111574464],\n",
       " [1565111574464, 1565111574632],\n",
       " [1565111576000, 1565111576306],\n",
       " [1565111576306, 1565111576401],\n",
       " [1565111577481, 1565111578327],\n",
       " [1565111578327, 1565121420525]]"
      ]
     },
     "execution_count": 4,
     "metadata": {},
     "output_type": "execute_result"
    }
   ],
   "source": [
    "# This will save a set of files that cover EVERY change that was made \n",
    "#     while FLUORITE was recording.\n",
    "project_history.save_timeline(\n",
    "    \"sample-timeline-finest\", \n",
    "    granularity=\"finest\",\n",
    "    first_time=launch_time,\n",
    "    last_time=launch_time+10**7 # Required, but will not change results\n",
    "                                #   if greater than the duration of the session.\n",
    ")\n",
    "\n",
    "# A list of periods will be returned. These are the periods during which\n",
    "#    the corresponding segment of the timeline was valid."
   ]
  },
  {
   "cell_type": "markdown",
   "metadata": {},
   "source": [
    "#### Method 2: Save Snapshots at a Given Interval"
   ]
  },
  {
   "cell_type": "code",
   "execution_count": 5,
   "metadata": {},
   "outputs": [],
   "source": [
    "# Alternatively, you can control the interval at which snapshots are saved.\n",
    "# You need to specify the starting and ending times for this one,\n",
    "#    and they need to be correct.\n",
    "project_history.save_timeline(\n",
    "    \"sample-timeline-periodic\",   # Output directory\n",
    "    granularity=10000,            # Time step in ms\n",
    "    first_time=launch_time,\n",
    "    last_time=launch_time+180000  # Must be correct, otherwise too many\n",
    "                                  #    or too few snapshots will be saved.\n",
    ")\n",
    "\n",
    "# Periods are not returned, but a smaller timeline is saved."
   ]
  }
 ],
 "metadata": {
  "kernelspec": {
   "display_name": "Python 3",
   "language": "python",
   "name": "python3"
  },
  "language_info": {
   "codemirror_mode": {
    "name": "ipython",
    "version": 3
   },
   "file_extension": ".py",
   "mimetype": "text/x-python",
   "name": "python",
   "nbconvert_exporter": "python",
   "pygments_lexer": "ipython3",
   "version": "3.6.4"
  }
 },
 "nbformat": 4,
 "nbformat_minor": 2
}
