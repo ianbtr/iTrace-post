{
 "cells": [
  {
   "cell_type": "markdown",
   "metadata": {},
   "source": [
    "# Generating Areas of Interest (AOIs)\n",
    "This notebook gives examples of generating AOIs from code and from raw gaze data.\n",
    "\n",
    "## Contents:\n",
    "[Generating AOIs from code](#Generating-AOIs-from-code)  \n",
    "[...]()  \n",
    "[...]()  "
   ]
  },
  {
   "cell_type": "code",
   "execution_count": 1,
   "metadata": {
    "collapsed": false
   },
   "outputs": [],
   "source": [
    "import scipy.ndimage\n",
    "import matplotlib.pyplot as plt\n",
    "from itrace_post import get_code_envelope, generate_code_mask"
   ]
  },
  {
   "cell_type": "markdown",
   "metadata": {},
   "source": [
    "## Generating AOIs from code\n",
    "The first step of this procedure is to generate a mask. \n",
    "Code is masked by eliminating whitespace. A logical numpy array is produced."
   ]
  },
  {
   "cell_type": "code",
   "execution_count": 3,
   "metadata": {
    "collapsed": true
   },
   "outputs": [
    {
     "name": "stdout",
     "output_type": "stream",
     "text": [
      "78 61\n"
     ]
    }
   ],
   "source": [
    "code_file = \"examples/sample-data/code-files/Space.java\"\n",
    "\n",
    "# Get the bounds of the file, in zero-indexed column/line numbers.\n",
    "width, height = get_code_envelope(code_file)\n",
    "\n",
    "print(width, height)"
   ]
  },
  {
   "cell_type": "code",
   "execution_count": 4,
   "metadata": {
    "collapsed": true
   },
   "outputs": [],
   "source": [
    "# Generate a code mask\n",
    "code_mask = generate_code_mask(code_file, width, height)\n",
    "plt.imshow(code_mask)\n",
    "plt.show()"
   ]
  },
  {
   "cell_type": "code",
   "execution_count": 5,
   "metadata": {
    "collapsed": true
   },
   "outputs": [],
   "source": [
    "# Label individual features in the logical array\n",
    "all_labels, num_features = scipy.ndimage.label(code_mask)\n",
    "plt.imshow(all_labels)\n",
    "plt.show()"
   ]
  },
  {
   "cell_type": "markdown",
   "metadata": {},
   "source": [
    "You can match a fixation to any of these areas by checking the value in the `all_labels` array at any given line and column."
   ]
  }
 ],
 "metadata": {
  "kernelspec": {
   "display_name": "Python 2",
   "language": "python",
   "name": "python2"
  },
  "language_info": {
   "codemirror_mode": {
    "name": "ipython",
    "version": 2
   },
   "file_extension": ".py",
   "mimetype": "text/x-python",
   "name": "python",
   "nbconvert_exporter": "python",
   "pygments_lexer": "ipython2",
   "version": "2.7.14"
  }
 },
 "nbformat": 4,
 "nbformat_minor": 1
}
