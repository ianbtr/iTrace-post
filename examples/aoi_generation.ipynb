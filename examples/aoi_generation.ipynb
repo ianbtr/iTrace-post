{
 "cells": [
  {
   "cell_type": "markdown",
   "metadata": {},
   "source": [
    "# Generating Areas of Interest (AOIs)\n",
    "This notebook gives examples of generating AOIs from code and from raw gaze data.\n",
    "\n",
    "## Contents:\n",
    "[Generating AOIs from code](#Generating-AOIs-from-code)  \n",
    "[Generating AOIs from gaze data](#Generating-AOIs-from-gaze-data)  \n",
    "[Putting the AOI types together](#Putting-the-AOI-types-together)  "
   ]
  },
  {
   "cell_type": "markdown",
   "metadata": {},
   "source": [
    "## Generating AOIs from code\n",
    "The first step of this procedure is to generate a mask. \n",
    "Code is masked by eliminating whitespace. A logical numpy array is produced."
   ]
  },
  {
   "cell_type": "code",
   "execution_count": 1,
   "metadata": {
    "collapsed": true
   },
   "outputs": [],
   "source": [
    "import scipy.ndimage\n",
    "import matplotlib.pyplot as plt\n",
    "from itrace_post import get_code_envelope, generate_code_mask"
   ]
  },
  {
   "cell_type": "code",
   "execution_count": 2,
   "metadata": {},
   "outputs": [
    {
     "name": "stdout",
     "output_type": "stream",
     "text": [
      "(78, 61)\n"
     ]
    }
   ],
   "source": [
    "code_file = \"sample-data/code-files/Space.java\"\n",
    "\n",
    "# Get the bounds of the file, in zero-indexed column/line numbers.\n",
    "width, height = get_code_envelope(code_file)\n",
    "\n",
    "print(width, height)"
   ]
  },
  {
   "cell_type": "code",
   "execution_count": 3,
   "metadata": {},
   "outputs": [
    {
     "data": {
      "image/png": "[encoded data removed]",
      "text/plain": [
       "<Figure size 432x288 with 1 Axes>"
      ]
     },
     "metadata": {},
     "output_type": "display_data"
    }
   ],
   "source": [
    "# Generate a code mask\n",
    "code_mask = generate_code_mask(code_file, width, height)\n",
    "plt.imshow(code_mask)\n",
    "plt.show()"
   ]
  },
  {
   "cell_type": "code",
   "execution_count": 4,
   "metadata": {},
   "outputs": [
    {
     "data": {
      "image/png": "[encoded data removed]",
      "text/plain": [
       "<Figure size 432x288 with 1 Axes>"
      ]
     },
     "metadata": {},
     "output_type": "display_data"
    }
   ],
   "source": [
    "# Label individual features in the logical array\n",
    "all_labels, num_features = scipy.ndimage.label(code_mask)\n",
    "plt.imshow(all_labels)\n",
    "plt.show()"
   ]
  },
  {
   "cell_type": "markdown",
   "metadata": {},
   "source": [
    "Each cell in each distinct region is labeled with a number between 1 and the number of identified regions. You can match a fixation to any of these areas by checking the value in the `all_labels` array at any given line and column. At this point, the maximum value in `all_labels` is also the total number of identified regions."
   ]
  },
  {
   "cell_type": "markdown",
   "metadata": {},
   "source": [
    "## Generating AOIs from gaze data\n",
    "This procedure is similar to that of generating a set of AOIs from code, but it uses smoothing and thresholding to extract the areas that subjects viewed most regularly."
   ]
  },
  {
   "cell_type": "code",
   "execution_count": 5,
   "metadata": {
    "collapsed": true
   },
   "outputs": [],
   "source": [
    "import scipy.ndimage\n",
    "import matplotlib.pyplot as plt\n",
    "from itrace_post import get_code_envelope, generate_gaze_mask"
   ]
  },
  {
   "cell_type": "code",
   "execution_count": 6,
   "metadata": {},
   "outputs": [
    {
     "name": "stdout",
     "output_type": "stream",
     "text": [
      "(78, 61)\n"
     ]
    }
   ],
   "source": [
    "# Note: this file does not contain real data.\n",
    "data_file = \"sample-data/data-files/random-fixations.csv\"\n",
    "\n",
    "# As before, we need to load the dimensions of a corresponding code file.\n",
    "code_file = \"sample-data/code-files/Space.java\"\n",
    "\n",
    "# Get the bounds of the file, in zero-indexed column/line numbers.\n",
    "width, height = get_code_envelope(code_file)\n",
    "\n",
    "print(width, height)"
   ]
  },
  {
   "cell_type": "markdown",
   "metadata": {},
   "source": [
    "This particular algorithm can also be used on data where the stimulus was a generic image, and not a code file. In this case, the basic spatial unit is the pixel, and the width, height and fixation coordinates should be given as pixels."
   ]
  },
  {
   "cell_type": "code",
   "execution_count": 7,
   "metadata": {},
   "outputs": [
    {
     "data": {
      "image/png": "[encoded data removed]",
      "text/plain": [
       "<Figure size 432x288 with 1 Axes>"
      ]
     },
     "metadata": {},
     "output_type": "display_data"
    }
   ],
   "source": [
    "# Generate a gaze mask\n",
    "gaze_mask = generate_gaze_mask(\n",
    "    data_file, \n",
    "    width, height,\n",
    "    x_fieldname=\"fix_col\", \n",
    "    y_fieldname=\"fix_line\", \n",
    "    dur_fieldname=\"fix_dur\"\n",
    ")\n",
    "\n",
    "plt.imshow(gaze_mask)\n",
    "plt.show()"
   ]
  },
  {
   "cell_type": "code",
   "execution_count": 8,
   "metadata": {},
   "outputs": [
    {
     "data": {
      "image/png": "[encoded data removed]",
      "text/plain": [
       "<Figure size 432x288 with 1 Axes>"
      ]
     },
     "metadata": {},
     "output_type": "display_data"
    }
   ],
   "source": [
    "# Label individual features in the logical array\n",
    "all_labels, num_features = scipy.ndimage.label(gaze_mask)\n",
    "plt.imshow(all_labels)\n",
    "plt.show()"
   ]
  },
  {
   "cell_type": "markdown",
   "metadata": {},
   "source": [
    "As before, we now have a numpy array whose distinct regions are numbered accordingly. We can also vary the smoothing and threshold parameters:"
   ]
  },
  {
   "cell_type": "code",
   "execution_count": 9,
   "metadata": {},
   "outputs": [
    {
     "data": {
      "image/png": "[encoded data removed]",
      "text/plain": [
       "<Figure size 432x288 with 1 Axes>"
      ]
     },
     "metadata": {},
     "output_type": "display_data"
    }
   ],
   "source": [
    "# The smoothing paramter is now less than the default, \n",
    "#   and the threshold is greater.\n",
    "gaze_mask = generate_gaze_mask(\n",
    "    data_file, \n",
    "    width, height, \n",
    "    x_fieldname=\"fix_col\", \n",
    "    y_fieldname=\"fix_line\", \n",
    "    dur_fieldname=\"fix_dur\",\n",
    "    smoothing=2.0, \n",
    "    threshold=0.1\n",
    ")\n",
    "\n",
    "plt.imshow(gaze_mask)\n",
    "plt.show()"
   ]
  },
  {
   "cell_type": "markdown",
   "metadata": {},
   "source": [
    "## Putting the AOI types together\n",
    "It may be useful to generate AOIs that represent the intersection between those inherent in a code document and those that can be found within gaze data. For this, we have a single function."
   ]
  },
  {
   "cell_type": "code",
   "execution_count": 10,
   "metadata": {
    "collapsed": true
   },
   "outputs": [],
   "source": [
    "import scipy.ndimage\n",
    "import matplotlib.pyplot as plt\n",
    "from itrace_post import get_aoi_intersection"
   ]
  },
  {
   "cell_type": "code",
   "execution_count": 11,
   "metadata": {},
   "outputs": [
    {
     "data": {
      "image/png": "[encoded data removed]",
      "text/plain": [
       "<Figure size 432x288 with 1 Axes>"
      ]
     },
     "metadata": {},
     "output_type": "display_data"
    }
   ],
   "source": [
    "mask, labels, rectangles = \\\n",
    "    get_aoi_intersection(\n",
    "        width, height, code_file, data_file,\n",
    "        x_fieldname=\"fix_col\", y_fieldname=\"fix_line\", \n",
    "        dur_fieldname=\"fix_dur\"\n",
    "    )\n",
    "    \n",
    "plt.imshow(mask)\n",
    "plt.show()"
   ]
  },
  {
   "cell_type": "code",
   "execution_count": 12,
   "metadata": {
    "scrolled": true
   },
   "outputs": [
    {
     "data": {
      "image/png": "[encoded data removed]",
      "text/plain": [
       "<Figure size 432x288 with 1 Axes>"
      ]
     },
     "metadata": {},
     "output_type": "display_data"
    }
   ],
   "source": [
    "plt.imshow(labels)\n",
    "plt.show()"
   ]
  },
  {
   "cell_type": "markdown",
   "metadata": {},
   "source": [
    "The third value is a list of dictionaries describing rectangle objects that inscribe each of these regions. We see that the rectangle has fields B, R, L and T for Bottom, Right, Left and Top respectively."
   ]
  },
  {
   "cell_type": "code",
   "execution_count": 13,
   "metadata": {},
   "outputs": [
    {
     "data": {
      "text/plain": [
       "'[{\"B\": 15, \"R\": 27, \"L\": 11, \"T\": 13}, {\"B\": 19, \"R\": 27, \"L\": 12, \"T\": 17}, {\"B\": 4, \"R\": 23, \"L\": 8, \"T\": 3}, {\"B\": 0, \"R\": 12, \"L\": 10, \"T\": 0}, {\"B\": 6, \"R\": 22, \"L\": 8, \"T\": 6}, {\"B\": 8, \"R\": 19, \"L\": 8, \"T\": 8}, {\"B\": 10, \"R\": 20, \"L\": 9, \"T\": 10}, {\"B\": 23, \"R\": 22, \"L\": 17, \"T\": 23}]'"
      ]
     },
     "execution_count": 13,
     "metadata": {},
     "output_type": "execute_result"
    }
   ],
   "source": [
    "import json\n",
    "json.dumps(rectangles)"
   ]
  }
 ],
 "metadata": {
  "kernelspec": {
   "display_name": "Python 3",
   "language": "python",
   "name": "python3"
  },
  "language_info": {
   "codemirror_mode": {
    "name": "ipython",
    "version": 3
   },
   "file_extension": ".py",
   "mimetype": "text/x-python",
   "name": "python",
   "nbconvert_exporter": "python",
   "pygments_lexer": "ipython3",
   "version": "3.6.4"
  }
 },
 "nbformat": 4,
 "nbformat_minor": 1
}
